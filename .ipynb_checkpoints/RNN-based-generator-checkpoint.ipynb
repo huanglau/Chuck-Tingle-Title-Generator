{
 "cells": [
  {
   "cell_type": "markdown",
   "metadata": {},
   "source": [
    "# Chuck Tingle Title Generator\n",
    "\n",
    "This notebook will generate Chuck Tingle titles using Tensorflow and RNNs. We will give the model an initial character or set of characters, and the model will automatically create a novel title.\n",
    "\n",
    "\n",
    "Inspired by:\n",
    "https://www.tensorflow.org/tutorials/text/text_generation"
   ]
  },
  {
   "cell_type": "code",
   "execution_count": 1,
   "metadata": {},
   "outputs": [
    {
     "name": "stderr",
     "output_type": "stream",
     "text": [
      "/home/vector/anaconda3/envs/KerasGPU2.2.4/lib/python3.7/site-packages/tensorflow/python/framework/dtypes.py:526: FutureWarning: Passing (type, 1) or '1type' as a synonym of type is deprecated; in a future version of numpy, it will be understood as (type, (1,)) / '(1,)type'.\n",
      "  _np_qint8 = np.dtype([(\"qint8\", np.int8, 1)])\n",
      "/home/vector/anaconda3/envs/KerasGPU2.2.4/lib/python3.7/site-packages/tensorflow/python/framework/dtypes.py:527: FutureWarning: Passing (type, 1) or '1type' as a synonym of type is deprecated; in a future version of numpy, it will be understood as (type, (1,)) / '(1,)type'.\n",
      "  _np_quint8 = np.dtype([(\"quint8\", np.uint8, 1)])\n",
      "/home/vector/anaconda3/envs/KerasGPU2.2.4/lib/python3.7/site-packages/tensorflow/python/framework/dtypes.py:528: FutureWarning: Passing (type, 1) or '1type' as a synonym of type is deprecated; in a future version of numpy, it will be understood as (type, (1,)) / '(1,)type'.\n",
      "  _np_qint16 = np.dtype([(\"qint16\", np.int16, 1)])\n",
      "/home/vector/anaconda3/envs/KerasGPU2.2.4/lib/python3.7/site-packages/tensorflow/python/framework/dtypes.py:529: FutureWarning: Passing (type, 1) or '1type' as a synonym of type is deprecated; in a future version of numpy, it will be understood as (type, (1,)) / '(1,)type'.\n",
      "  _np_quint16 = np.dtype([(\"quint16\", np.uint16, 1)])\n",
      "/home/vector/anaconda3/envs/KerasGPU2.2.4/lib/python3.7/site-packages/tensorflow/python/framework/dtypes.py:530: FutureWarning: Passing (type, 1) or '1type' as a synonym of type is deprecated; in a future version of numpy, it will be understood as (type, (1,)) / '(1,)type'.\n",
      "  _np_qint32 = np.dtype([(\"qint32\", np.int32, 1)])\n",
      "/home/vector/anaconda3/envs/KerasGPU2.2.4/lib/python3.7/site-packages/tensorflow/python/framework/dtypes.py:535: FutureWarning: Passing (type, 1) or '1type' as a synonym of type is deprecated; in a future version of numpy, it will be understood as (type, (1,)) / '(1,)type'.\n",
      "  np_resource = np.dtype([(\"resource\", np.ubyte, 1)])\n"
     ]
    }
   ],
   "source": [
    "# load packages.\n",
    "import tensorflow as tf\n",
    "tf.enable_eager_execution()\n",
    "\n",
    "import pandas as pd\n",
    "import numpy as np\n",
    "import os\n",
    "import time\n"
   ]
  },
  {
   "cell_type": "markdown",
   "metadata": {},
   "source": [
    "# Preprocessing"
   ]
  },
  {
   "cell_type": "code",
   "execution_count": 2,
   "metadata": {},
   "outputs": [
    {
     "data": {
      "text/plain": [
       "<bound method NDFrame.head of                                                  title              date\n",
       "0            My Billionaire Triceratops Craves Gay Ass   December 9 2014\n",
       "1                         Pounded by President Bigfoot  December 10 2014\n",
       "2                       Taken by the Gay Unicorn Biker  December 11 2014\n",
       "3                 Gay T-Rex Law Firm: Executive Boner     January 9 2015\n",
       "4                          Space Raptor Butt Invasion    January 11 2015\n",
       "..                                                 ...               ...\n",
       "193  Not Pounded By The Physical Manifestation Of S...      June 19 2020\n",
       "194  Bisexual Mothman Mailman Makes A Special Deliv...      June 27 2020\n",
       "195    Helicopter Man Pounds Dinosaur Billionaire Ass       July 17 2015\n",
       "196        Buttageddon: The Final Days of Pounding Ass    August 17 2015\n",
       "197  Trans Wizard Harriet Porber And The Bad Boy Pa...      June 12 2020\n",
       "\n",
       "[198 rows x 2 columns]>"
      ]
     },
     "execution_count": 2,
     "metadata": {},
     "output_type": "execute_result"
    }
   ],
   "source": [
    "# Load file containing all book titles.\n",
    "# These titles have been compiled from Chuck Tingles wiki page\n",
    "book_titles = pd.read_csv('BookList.txt', error_bad_lines=False)\n",
    "book_titles.head"
   ]
  },
  {
   "cell_type": "code",
   "execution_count": 3,
   "metadata": {},
   "outputs": [],
   "source": [
    "# get mega string of all book titles\n",
    "text = ''.join(book_titles['title'].values)\n",
    "\n",
    "# get unique set of characters\n",
    "vocab = sorted(set(text))"
   ]
  },
  {
   "cell_type": "code",
   "execution_count": 4,
   "metadata": {},
   "outputs": [],
   "source": [
    "# Map characters to indices\n",
    "char2idx = {u:i for i, u in enumerate(vocab)}\n",
    "idx2char = np.array(vocab)\n",
    "\n",
    "# convert chars to the indicies \n",
    "text_as_int = np.array([char2idx[c] for c in text])\n"
   ]
  },
  {
   "cell_type": "markdown",
   "metadata": {},
   "source": [
    "# Build Data Generator"
   ]
  },
  {
   "cell_type": "code",
   "execution_count": 5,
   "metadata": {},
   "outputs": [
    {
     "name": "stdout",
     "output_type": "stream",
     "text": [
      "The average number of char in a title is 70.51\n"
     ]
    }
   ],
   "source": [
    "ave_num_char = np.mean([len(i) for i in book_titles['title'].values])\n",
    "\n",
    "print(\"The average number of char in a title is {:.2f}\".format(ave_num_char))"
   ]
  },
  {
   "cell_type": "code",
   "execution_count": 6,
   "metadata": {},
   "outputs": [
    {
     "name": "stdout",
     "output_type": "stream",
     "text": [
      "WARNING:tensorflow:From /home/vector/anaconda3/envs/KerasGPU2.2.4/lib/python3.7/site-packages/tensorflow/python/data/ops/iterator_ops.py:532: colocate_with (from tensorflow.python.framework.ops) is deprecated and will be removed in a future version.\n",
      "Instructions for updating:\n",
      "Colocations handled automatically by placer.\n",
      "M\n",
      "y\n",
      " \n",
      "B\n",
      "i\n"
     ]
    }
   ],
   "source": [
    "# The maximum length title we want for a single input in characters\n",
    "seq_length = 70\n",
    "examples_per_epoch = len(text)//(seq_length+1)\n",
    "\n",
    "# Create training examples / targets\n",
    "char_dataset = tf.data.Dataset.from_tensor_slices(text_as_int)\n",
    "\n",
    "for i in char_dataset.take(5):\n",
    "    print(idx2char[i.numpy()])"
   ]
  },
  {
   "cell_type": "code",
   "execution_count": 7,
   "metadata": {},
   "outputs": [
    {
     "name": "stdout",
     "output_type": "stream",
     "text": [
      "'My Billionaire Triceratops Craves Gay AssPounded by President BigfootTa'\n",
      "'ken by the Gay Unicorn BikerGay T-Rex Law Firm: Executive Boner Space R'\n",
      "'aptor Butt Invasion My Ass Is Haunted by the Gay Unicorn Colonel Pounde'\n",
      "\"d by the Gay Unicorn Football Squad I'm Gay for My Living Billionaire J\"\n",
      "'et Plane Bigfoot Sommelier Butt Tasting Unicorn Butt Cops: Beach Patrol'\n"
     ]
    }
   ],
   "source": [
    "# convert the mega string, into a sequence of characters with the desired size\n",
    "sequences = char_dataset.batch(seq_length+1, drop_remainder=True)\n",
    "\n",
    "# since there aren't that many titles, we make sure the sequence can repeat\n",
    "sequences = sequences.repeat() \n",
    "\n",
    "for item in sequences.take(5):\n",
    "      print(repr(''.join(idx2char[item.numpy()])))\n"
   ]
  },
  {
   "cell_type": "code",
   "execution_count": 8,
   "metadata": {},
   "outputs": [],
   "source": [
    "def split_input_target(chunk):\n",
    "    input_text = chunk[:-1]\n",
    "    target_text = chunk[1:]\n",
    "    return input_text, target_text\n",
    "\n",
    "dataset = sequences.map(split_input_target)"
   ]
  },
  {
   "cell_type": "markdown",
   "metadata": {},
   "source": [
    "# Train Model"
   ]
  },
  {
   "cell_type": "code",
   "execution_count": 9,
   "metadata": {},
   "outputs": [],
   "source": [
    "# build model\n",
    "\n",
    "def build_model(vocab_size, embedding_dim, rnn_units, batch_size):\n",
    "    model = tf.keras.Sequential()\n",
    "    model.add(tf.keras.layers.Embedding(vocab_size, embedding_dim,\n",
    "                                        batch_input_shape=[batch_size, None]))\n",
    "    model.add(tf.keras.layers.GRU(rnn_units,\n",
    "                        return_sequences=True,\n",
    "                        stateful=True,\n",
    "                        recurrent_initializer='glorot_uniform'))\n",
    "    model.add(tf.keras.layers.Dense(vocab_size))\n",
    "    return model\n"
   ]
  },
  {
   "cell_type": "code",
   "execution_count": 10,
   "metadata": {},
   "outputs": [
    {
     "name": "stdout",
     "output_type": "stream",
     "text": [
      "_________________________________________________________________\n",
      "Layer (type)                 Output Shape              Param #   \n",
      "=================================================================\n",
      "embedding (Embedding)        (64, None, 256)           16896     \n",
      "_________________________________________________________________\n",
      "gru (GRU)                    (64, None, 512)           1181184   \n",
      "_________________________________________________________________\n",
      "dense (Dense)                (64, None, 66)            33858     \n",
      "=================================================================\n",
      "Total params: 1,231,938\n",
      "Trainable params: 1,231,938\n",
      "Non-trainable params: 0\n",
      "_________________________________________________________________\n"
     ]
    }
   ],
   "source": [
    "BATCH_SIZE = 64\n",
    "BUFFER_SIZE = 100\n",
    "dataset = dataset.shuffle(BUFFER_SIZE).batch(BATCH_SIZE, drop_remainder=True)\n",
    "\n",
    "\n",
    "model = build_model(\n",
    "  vocab_size = len(vocab),\n",
    "  embedding_dim = 256,\n",
    "  rnn_units = 512,\n",
    "  batch_size = 64)\n",
    "model.summary() "
   ]
  },
  {
   "cell_type": "code",
   "execution_count": 11,
   "metadata": {},
   "outputs": [
    {
     "name": "stdout",
     "output_type": "stream",
     "text": [
      "ok\n",
      "(64, 70, 66) # (batch_size, sequence_length, vocab_size)\n",
      "_________________________________________________________________\n",
      "Layer (type)                 Output Shape              Param #   \n",
      "=================================================================\n",
      "embedding (Embedding)        (64, None, 256)           16896     \n",
      "_________________________________________________________________\n",
      "gru (GRU)                    (64, None, 512)           1181184   \n",
      "_________________________________________________________________\n",
      "dense (Dense)                (64, None, 66)            33858     \n",
      "=================================================================\n",
      "Total params: 1,231,938\n",
      "Trainable params: 1,231,938\n",
      "Non-trainable params: 0\n",
      "_________________________________________________________________\n",
      "Prediction shape:  (64, 70, 66)  # (batch_size, sequence_length, vocab_size)\n",
      "scalar_loss:       4.1894555\n"
     ]
    }
   ],
   "source": [
    "for input_example_batch, target_example_batch in dataset.take(1):\n",
    "    print('ok')\n",
    "    example_batch_predictions = model(input_example_batch)\n",
    "    print(example_batch_predictions.shape, \"# (batch_size, sequence_length, vocab_size)\")\n",
    "\n",
    "model.summary() \n",
    " #%%\n",
    "sampled_indices = tf.random.categorical(example_batch_predictions[0], num_samples=1)\n",
    "sampled_indices = tf.squeeze(sampled_indices,axis=-1).numpy()\n",
    "\n",
    "sampled_indices\n",
    "\n",
    "\n",
    "def loss(labels, logits):\n",
    "      return tf.keras.losses.sparse_categorical_crossentropy(labels, logits, from_logits=True)\n",
    "\n",
    "example_batch_loss  = loss(target_example_batch, example_batch_predictions)\n",
    "print(\"Prediction shape: \", example_batch_predictions.shape, \" # (batch_size, sequence_length, vocab_size)\")\n",
    "print(\"scalar_loss:      \", example_batch_loss.numpy().mean())\n",
    "\n",
    "\n",
    "model.compile(optimizer='adam', loss=loss)\n",
    "\n",
    "# Directory where the checkpoints will be saved\n",
    "checkpoint_dir = './training_checkpoints'\n",
    "# Name of the checkpoint files\n",
    "checkpoint_prefix = os.path.join(checkpoint_dir, \"ckpt_{epoch}\")\n",
    "\n",
    "checkpoint_callback=tf.keras.callbacks.ModelCheckpoint(\n",
    "    filepath=checkpoint_prefix,\n",
    "    save_weights_only=True)\n",
    "\n"
   ]
  },
  {
   "cell_type": "code",
   "execution_count": 28,
   "metadata": {
    "scrolled": false
   },
   "outputs": [
    {
     "name": "stdout",
     "output_type": "stream",
     "text": [
      "Epoch 1/50\n",
      " 99/100 [============================>.] - ETA: 0s - loss: 0.0863WARNING:tensorflow:This model was compiled with a Keras optimizer (<tensorflow.python.keras.optimizers.Adam object at 0x7f51641dbf10>) but is being saved in TensorFlow format with `save_weights`. The model's weights will be saved, but unlike with TensorFlow optimizers in the TensorFlow format the optimizer's state will not be saved.\n",
      "\n",
      "Consider using a TensorFlow optimizer from `tf.train`.\n",
      "100/100 [==============================] - 12s 120ms/step - loss: 0.0863\n",
      "Epoch 2/50\n",
      " 99/100 [============================>.] - ETA: 0s - loss: 0.0794WARNING:tensorflow:This model was compiled with a Keras optimizer (<tensorflow.python.keras.optimizers.Adam object at 0x7f51641dbf10>) but is being saved in TensorFlow format with `save_weights`. The model's weights will be saved, but unlike with TensorFlow optimizers in the TensorFlow format the optimizer's state will not be saved.\n",
      "\n",
      "Consider using a TensorFlow optimizer from `tf.train`.\n",
      "100/100 [==============================] - 12s 120ms/step - loss: 0.0794\n",
      "Epoch 3/50\n",
      " 99/100 [============================>.] - ETA: 0s - loss: 0.0733WARNING:tensorflow:This model was compiled with a Keras optimizer (<tensorflow.python.keras.optimizers.Adam object at 0x7f51641dbf10>) but is being saved in TensorFlow format with `save_weights`. The model's weights will be saved, but unlike with TensorFlow optimizers in the TensorFlow format the optimizer's state will not be saved.\n",
      "\n",
      "Consider using a TensorFlow optimizer from `tf.train`.\n",
      "100/100 [==============================] - 12s 120ms/step - loss: 0.0733\n",
      "Epoch 4/50\n",
      " 99/100 [============================>.] - ETA: 0s - loss: 0.0723WARNING:tensorflow:This model was compiled with a Keras optimizer (<tensorflow.python.keras.optimizers.Adam object at 0x7f51641dbf10>) but is being saved in TensorFlow format with `save_weights`. The model's weights will be saved, but unlike with TensorFlow optimizers in the TensorFlow format the optimizer's state will not be saved.\n",
      "\n",
      "Consider using a TensorFlow optimizer from `tf.train`.\n",
      "100/100 [==============================] - 12s 120ms/step - loss: 0.0722\n",
      "Epoch 5/50\n",
      " 99/100 [============================>.] - ETA: 0s - loss: 0.0651WARNING:tensorflow:This model was compiled with a Keras optimizer (<tensorflow.python.keras.optimizers.Adam object at 0x7f51641dbf10>) but is being saved in TensorFlow format with `save_weights`. The model's weights will be saved, but unlike with TensorFlow optimizers in the TensorFlow format the optimizer's state will not be saved.\n",
      "\n",
      "Consider using a TensorFlow optimizer from `tf.train`.\n",
      "100/100 [==============================] - 12s 123ms/step - loss: 0.0651\n",
      "Epoch 6/50\n",
      " 99/100 [============================>.] - ETA: 0s - loss: 0.0630WARNING:tensorflow:This model was compiled with a Keras optimizer (<tensorflow.python.keras.optimizers.Adam object at 0x7f51641dbf10>) but is being saved in TensorFlow format with `save_weights`. The model's weights will be saved, but unlike with TensorFlow optimizers in the TensorFlow format the optimizer's state will not be saved.\n",
      "\n",
      "Consider using a TensorFlow optimizer from `tf.train`.\n",
      "100/100 [==============================] - 12s 119ms/step - loss: 0.0629\n",
      "Epoch 7/50\n",
      " 99/100 [============================>.] - ETA: 0s - loss: 0.0595WARNING:tensorflow:This model was compiled with a Keras optimizer (<tensorflow.python.keras.optimizers.Adam object at 0x7f51641dbf10>) but is being saved in TensorFlow format with `save_weights`. The model's weights will be saved, but unlike with TensorFlow optimizers in the TensorFlow format the optimizer's state will not be saved.\n",
      "\n",
      "Consider using a TensorFlow optimizer from `tf.train`.\n",
      "100/100 [==============================] - 12s 118ms/step - loss: 0.0595\n",
      "Epoch 8/50\n",
      " 99/100 [============================>.] - ETA: 0s - loss: 0.0617WARNING:tensorflow:This model was compiled with a Keras optimizer (<tensorflow.python.keras.optimizers.Adam object at 0x7f51641dbf10>) but is being saved in TensorFlow format with `save_weights`. The model's weights will be saved, but unlike with TensorFlow optimizers in the TensorFlow format the optimizer's state will not be saved.\n",
      "\n",
      "Consider using a TensorFlow optimizer from `tf.train`.\n",
      "100/100 [==============================] - 12s 118ms/step - loss: 0.0617\n",
      "Epoch 9/50\n",
      " 99/100 [============================>.] - ETA: 0s - loss: 0.0568WARNING:tensorflow:This model was compiled with a Keras optimizer (<tensorflow.python.keras.optimizers.Adam object at 0x7f51641dbf10>) but is being saved in TensorFlow format with `save_weights`. The model's weights will be saved, but unlike with TensorFlow optimizers in the TensorFlow format the optimizer's state will not be saved.\n",
      "\n",
      "Consider using a TensorFlow optimizer from `tf.train`.\n",
      "100/100 [==============================] - 12s 118ms/step - loss: 0.0567\n",
      "Epoch 10/50\n",
      " 99/100 [============================>.] - ETA: 0s - loss: 0.0552WARNING:tensorflow:This model was compiled with a Keras optimizer (<tensorflow.python.keras.optimizers.Adam object at 0x7f51641dbf10>) but is being saved in TensorFlow format with `save_weights`. The model's weights will be saved, but unlike with TensorFlow optimizers in the TensorFlow format the optimizer's state will not be saved.\n",
      "\n",
      "Consider using a TensorFlow optimizer from `tf.train`.\n",
      "100/100 [==============================] - 12s 119ms/step - loss: 0.0553\n",
      "Epoch 11/50\n",
      " 99/100 [============================>.] - ETA: 0s - loss: 0.0596WARNING:tensorflow:This model was compiled with a Keras optimizer (<tensorflow.python.keras.optimizers.Adam object at 0x7f51641dbf10>) but is being saved in TensorFlow format with `save_weights`. The model's weights will be saved, but unlike with TensorFlow optimizers in the TensorFlow format the optimizer's state will not be saved.\n",
      "\n",
      "Consider using a TensorFlow optimizer from `tf.train`.\n",
      "100/100 [==============================] - 12s 119ms/step - loss: 0.0595\n",
      "Epoch 12/50\n",
      " 99/100 [============================>.] - ETA: 0s - loss: 0.0538WARNING:tensorflow:This model was compiled with a Keras optimizer (<tensorflow.python.keras.optimizers.Adam object at 0x7f51641dbf10>) but is being saved in TensorFlow format with `save_weights`. The model's weights will be saved, but unlike with TensorFlow optimizers in the TensorFlow format the optimizer's state will not be saved.\n",
      "\n",
      "Consider using a TensorFlow optimizer from `tf.train`.\n",
      "100/100 [==============================] - 12s 118ms/step - loss: 0.0538\n",
      "Epoch 13/50\n",
      " 99/100 [============================>.] - ETA: 0s - loss: 0.0527WARNING:tensorflow:This model was compiled with a Keras optimizer (<tensorflow.python.keras.optimizers.Adam object at 0x7f51641dbf10>) but is being saved in TensorFlow format with `save_weights`. The model's weights will be saved, but unlike with TensorFlow optimizers in the TensorFlow format the optimizer's state will not be saved.\n",
      "\n",
      "Consider using a TensorFlow optimizer from `tf.train`.\n",
      "100/100 [==============================] - 12s 118ms/step - loss: 0.0527\n",
      "Epoch 14/50\n",
      " 99/100 [============================>.] - ETA: 0s - loss: 0.0512WARNING:tensorflow:This model was compiled with a Keras optimizer (<tensorflow.python.keras.optimizers.Adam object at 0x7f51641dbf10>) but is being saved in TensorFlow format with `save_weights`. The model's weights will be saved, but unlike with TensorFlow optimizers in the TensorFlow format the optimizer's state will not be saved.\n",
      "\n",
      "Consider using a TensorFlow optimizer from `tf.train`.\n",
      "100/100 [==============================] - 12s 118ms/step - loss: 0.0512\n",
      "Epoch 15/50\n",
      " 99/100 [============================>.] - ETA: 0s - loss: 0.0531WARNING:tensorflow:This model was compiled with a Keras optimizer (<tensorflow.python.keras.optimizers.Adam object at 0x7f51641dbf10>) but is being saved in TensorFlow format with `save_weights`. The model's weights will be saved, but unlike with TensorFlow optimizers in the TensorFlow format the optimizer's state will not be saved.\n",
      "\n",
      "Consider using a TensorFlow optimizer from `tf.train`.\n",
      "100/100 [==============================] - 12s 119ms/step - loss: 0.0531\n",
      "Epoch 16/50\n",
      " 99/100 [============================>.] - ETA: 0s - loss: 0.0498WARNING:tensorflow:This model was compiled with a Keras optimizer (<tensorflow.python.keras.optimizers.Adam object at 0x7f51641dbf10>) but is being saved in TensorFlow format with `save_weights`. The model's weights will be saved, but unlike with TensorFlow optimizers in the TensorFlow format the optimizer's state will not be saved.\n",
      "\n",
      "Consider using a TensorFlow optimizer from `tf.train`.\n"
     ]
    },
    {
     "name": "stdout",
     "output_type": "stream",
     "text": [
      "100/100 [==============================] - 12s 119ms/step - loss: 0.0498\n",
      "Epoch 17/50\n",
      " 99/100 [============================>.] - ETA: 0s - loss: 0.0481WARNING:tensorflow:This model was compiled with a Keras optimizer (<tensorflow.python.keras.optimizers.Adam object at 0x7f51641dbf10>) but is being saved in TensorFlow format with `save_weights`. The model's weights will be saved, but unlike with TensorFlow optimizers in the TensorFlow format the optimizer's state will not be saved.\n",
      "\n",
      "Consider using a TensorFlow optimizer from `tf.train`.\n",
      "100/100 [==============================] - 12s 120ms/step - loss: 0.0480\n",
      "Epoch 18/50\n",
      " 99/100 [============================>.] - ETA: 0s - loss: 0.0479WARNING:tensorflow:This model was compiled with a Keras optimizer (<tensorflow.python.keras.optimizers.Adam object at 0x7f51641dbf10>) but is being saved in TensorFlow format with `save_weights`. The model's weights will be saved, but unlike with TensorFlow optimizers in the TensorFlow format the optimizer's state will not be saved.\n",
      "\n",
      "Consider using a TensorFlow optimizer from `tf.train`.\n",
      "100/100 [==============================] - 12s 118ms/step - loss: 0.0479\n",
      "Epoch 19/50\n",
      " 99/100 [============================>.] - ETA: 0s - loss: 0.0495WARNING:tensorflow:This model was compiled with a Keras optimizer (<tensorflow.python.keras.optimizers.Adam object at 0x7f51641dbf10>) but is being saved in TensorFlow format with `save_weights`. The model's weights will be saved, but unlike with TensorFlow optimizers in the TensorFlow format the optimizer's state will not be saved.\n",
      "\n",
      "Consider using a TensorFlow optimizer from `tf.train`.\n",
      "100/100 [==============================] - 12s 117ms/step - loss: 0.0495\n",
      "Epoch 20/50\n",
      " 99/100 [============================>.] - ETA: 0s - loss: 0.0549WARNING:tensorflow:This model was compiled with a Keras optimizer (<tensorflow.python.keras.optimizers.Adam object at 0x7f51641dbf10>) but is being saved in TensorFlow format with `save_weights`. The model's weights will be saved, but unlike with TensorFlow optimizers in the TensorFlow format the optimizer's state will not be saved.\n",
      "\n",
      "Consider using a TensorFlow optimizer from `tf.train`.\n",
      "100/100 [==============================] - 12s 117ms/step - loss: 0.0549\n",
      "Epoch 21/50\n",
      " 99/100 [============================>.] - ETA: 0s - loss: 0.0505WARNING:tensorflow:This model was compiled with a Keras optimizer (<tensorflow.python.keras.optimizers.Adam object at 0x7f51641dbf10>) but is being saved in TensorFlow format with `save_weights`. The model's weights will be saved, but unlike with TensorFlow optimizers in the TensorFlow format the optimizer's state will not be saved.\n",
      "\n",
      "Consider using a TensorFlow optimizer from `tf.train`.\n",
      "100/100 [==============================] - 12s 116ms/step - loss: 0.0505\n",
      "Epoch 22/50\n",
      " 99/100 [============================>.] - ETA: 0s - loss: 0.0484WARNING:tensorflow:This model was compiled with a Keras optimizer (<tensorflow.python.keras.optimizers.Adam object at 0x7f51641dbf10>) but is being saved in TensorFlow format with `save_weights`. The model's weights will be saved, but unlike with TensorFlow optimizers in the TensorFlow format the optimizer's state will not be saved.\n",
      "\n",
      "Consider using a TensorFlow optimizer from `tf.train`.\n",
      "100/100 [==============================] - 12s 116ms/step - loss: 0.0484\n",
      "Epoch 23/50\n",
      " 99/100 [============================>.] - ETA: 0s - loss: 0.0470WARNING:tensorflow:This model was compiled with a Keras optimizer (<tensorflow.python.keras.optimizers.Adam object at 0x7f51641dbf10>) but is being saved in TensorFlow format with `save_weights`. The model's weights will be saved, but unlike with TensorFlow optimizers in the TensorFlow format the optimizer's state will not be saved.\n",
      "\n",
      "Consider using a TensorFlow optimizer from `tf.train`.\n",
      "100/100 [==============================] - 12s 116ms/step - loss: 0.0470\n",
      "Epoch 24/50\n",
      " 99/100 [============================>.] - ETA: 0s - loss: 0.0487WARNING:tensorflow:This model was compiled with a Keras optimizer (<tensorflow.python.keras.optimizers.Adam object at 0x7f51641dbf10>) but is being saved in TensorFlow format with `save_weights`. The model's weights will be saved, but unlike with TensorFlow optimizers in the TensorFlow format the optimizer's state will not be saved.\n",
      "\n",
      "Consider using a TensorFlow optimizer from `tf.train`.\n",
      "100/100 [==============================] - 12s 117ms/step - loss: 0.0487\n",
      "Epoch 25/50\n",
      " 99/100 [============================>.] - ETA: 0s - loss: 0.0514WARNING:tensorflow:This model was compiled with a Keras optimizer (<tensorflow.python.keras.optimizers.Adam object at 0x7f51641dbf10>) but is being saved in TensorFlow format with `save_weights`. The model's weights will be saved, but unlike with TensorFlow optimizers in the TensorFlow format the optimizer's state will not be saved.\n",
      "\n",
      "Consider using a TensorFlow optimizer from `tf.train`.\n",
      "100/100 [==============================] - 12s 117ms/step - loss: 0.0514\n",
      "Epoch 26/50\n",
      " 99/100 [============================>.] - ETA: 0s - loss: 0.0463WARNING:tensorflow:This model was compiled with a Keras optimizer (<tensorflow.python.keras.optimizers.Adam object at 0x7f51641dbf10>) but is being saved in TensorFlow format with `save_weights`. The model's weights will be saved, but unlike with TensorFlow optimizers in the TensorFlow format the optimizer's state will not be saved.\n",
      "\n",
      "Consider using a TensorFlow optimizer from `tf.train`.\n",
      "100/100 [==============================] - 12s 117ms/step - loss: 0.0463\n",
      "Epoch 27/50\n",
      " 99/100 [============================>.] - ETA: 0s - loss: 0.0460WARNING:tensorflow:This model was compiled with a Keras optimizer (<tensorflow.python.keras.optimizers.Adam object at 0x7f51641dbf10>) but is being saved in TensorFlow format with `save_weights`. The model's weights will be saved, but unlike with TensorFlow optimizers in the TensorFlow format the optimizer's state will not be saved.\n",
      "\n",
      "Consider using a TensorFlow optimizer from `tf.train`.\n",
      "100/100 [==============================] - 12s 117ms/step - loss: 0.0461\n",
      "Epoch 28/50\n",
      " 99/100 [============================>.] - ETA: 0s - loss: 0.0496WARNING:tensorflow:This model was compiled with a Keras optimizer (<tensorflow.python.keras.optimizers.Adam object at 0x7f51641dbf10>) but is being saved in TensorFlow format with `save_weights`. The model's weights will be saved, but unlike with TensorFlow optimizers in the TensorFlow format the optimizer's state will not be saved.\n",
      "\n",
      "Consider using a TensorFlow optimizer from `tf.train`.\n",
      "100/100 [==============================] - 12s 117ms/step - loss: 0.0496\n",
      "Epoch 29/50\n",
      " 99/100 [============================>.] - ETA: 0s - loss: 0.0485WARNING:tensorflow:This model was compiled with a Keras optimizer (<tensorflow.python.keras.optimizers.Adam object at 0x7f51641dbf10>) but is being saved in TensorFlow format with `save_weights`. The model's weights will be saved, but unlike with TensorFlow optimizers in the TensorFlow format the optimizer's state will not be saved.\n",
      "\n",
      "Consider using a TensorFlow optimizer from `tf.train`.\n",
      "100/100 [==============================] - 12s 117ms/step - loss: 0.0485\n",
      "Epoch 30/50\n",
      " 99/100 [============================>.] - ETA: 0s - loss: 0.0448WARNING:tensorflow:This model was compiled with a Keras optimizer (<tensorflow.python.keras.optimizers.Adam object at 0x7f51641dbf10>) but is being saved in TensorFlow format with `save_weights`. The model's weights will be saved, but unlike with TensorFlow optimizers in the TensorFlow format the optimizer's state will not be saved.\n",
      "\n",
      "Consider using a TensorFlow optimizer from `tf.train`.\n",
      "100/100 [==============================] - 12s 117ms/step - loss: 0.0447\n",
      "Epoch 31/50\n",
      " 99/100 [============================>.] - ETA: 0s - loss: 0.0488WARNING:tensorflow:This model was compiled with a Keras optimizer (<tensorflow.python.keras.optimizers.Adam object at 0x7f51641dbf10>) but is being saved in TensorFlow format with `save_weights`. The model's weights will be saved, but unlike with TensorFlow optimizers in the TensorFlow format the optimizer's state will not be saved.\n",
      "\n",
      "Consider using a TensorFlow optimizer from `tf.train`.\n",
      "100/100 [==============================] - 12s 117ms/step - loss: 0.0489\n",
      "Epoch 32/50\n"
     ]
    },
    {
     "name": "stdout",
     "output_type": "stream",
     "text": [
      " 99/100 [============================>.] - ETA: 0s - loss: 0.0473WARNING:tensorflow:This model was compiled with a Keras optimizer (<tensorflow.python.keras.optimizers.Adam object at 0x7f51641dbf10>) but is being saved in TensorFlow format with `save_weights`. The model's weights will be saved, but unlike with TensorFlow optimizers in the TensorFlow format the optimizer's state will not be saved.\n",
      "\n",
      "Consider using a TensorFlow optimizer from `tf.train`.\n",
      "100/100 [==============================] - 12s 116ms/step - loss: 0.0472\n",
      "Epoch 33/50\n",
      " 99/100 [============================>.] - ETA: 0s - loss: 0.0462WARNING:tensorflow:This model was compiled with a Keras optimizer (<tensorflow.python.keras.optimizers.Adam object at 0x7f51641dbf10>) but is being saved in TensorFlow format with `save_weights`. The model's weights will be saved, but unlike with TensorFlow optimizers in the TensorFlow format the optimizer's state will not be saved.\n",
      "\n",
      "Consider using a TensorFlow optimizer from `tf.train`.\n",
      "100/100 [==============================] - 12s 116ms/step - loss: 0.0461\n",
      "Epoch 34/50\n",
      " 99/100 [============================>.] - ETA: 0s - loss: 0.0466WARNING:tensorflow:This model was compiled with a Keras optimizer (<tensorflow.python.keras.optimizers.Adam object at 0x7f51641dbf10>) but is being saved in TensorFlow format with `save_weights`. The model's weights will be saved, but unlike with TensorFlow optimizers in the TensorFlow format the optimizer's state will not be saved.\n",
      "\n",
      "Consider using a TensorFlow optimizer from `tf.train`.\n",
      "100/100 [==============================] - 12s 116ms/step - loss: 0.0465\n",
      "Epoch 35/50\n",
      " 99/100 [============================>.] - ETA: 0s - loss: 0.0465WARNING:tensorflow:This model was compiled with a Keras optimizer (<tensorflow.python.keras.optimizers.Adam object at 0x7f51641dbf10>) but is being saved in TensorFlow format with `save_weights`. The model's weights will be saved, but unlike with TensorFlow optimizers in the TensorFlow format the optimizer's state will not be saved.\n",
      "\n",
      "Consider using a TensorFlow optimizer from `tf.train`.\n",
      "100/100 [==============================] - 12s 116ms/step - loss: 0.0465\n",
      "Epoch 36/50\n",
      " 99/100 [============================>.] - ETA: 0s - loss: 0.0453WARNING:tensorflow:This model was compiled with a Keras optimizer (<tensorflow.python.keras.optimizers.Adam object at 0x7f51641dbf10>) but is being saved in TensorFlow format with `save_weights`. The model's weights will be saved, but unlike with TensorFlow optimizers in the TensorFlow format the optimizer's state will not be saved.\n",
      "\n",
      "Consider using a TensorFlow optimizer from `tf.train`.\n",
      "100/100 [==============================] - 12s 116ms/step - loss: 0.0452\n",
      "Epoch 37/50\n",
      " 99/100 [============================>.] - ETA: 0s - loss: 0.0439WARNING:tensorflow:This model was compiled with a Keras optimizer (<tensorflow.python.keras.optimizers.Adam object at 0x7f51641dbf10>) but is being saved in TensorFlow format with `save_weights`. The model's weights will be saved, but unlike with TensorFlow optimizers in the TensorFlow format the optimizer's state will not be saved.\n",
      "\n",
      "Consider using a TensorFlow optimizer from `tf.train`.\n",
      "100/100 [==============================] - 12s 116ms/step - loss: 0.0439\n",
      "Epoch 38/50\n",
      " 99/100 [============================>.] - ETA: 0s - loss: 0.0507WARNING:tensorflow:This model was compiled with a Keras optimizer (<tensorflow.python.keras.optimizers.Adam object at 0x7f51641dbf10>) but is being saved in TensorFlow format with `save_weights`. The model's weights will be saved, but unlike with TensorFlow optimizers in the TensorFlow format the optimizer's state will not be saved.\n",
      "\n",
      "Consider using a TensorFlow optimizer from `tf.train`.\n",
      "100/100 [==============================] - 12s 116ms/step - loss: 0.0507\n",
      "Epoch 39/50\n",
      " 99/100 [============================>.] - ETA: 0s - loss: 0.0470WARNING:tensorflow:This model was compiled with a Keras optimizer (<tensorflow.python.keras.optimizers.Adam object at 0x7f51641dbf10>) but is being saved in TensorFlow format with `save_weights`. The model's weights will be saved, but unlike with TensorFlow optimizers in the TensorFlow format the optimizer's state will not be saved.\n",
      "\n",
      "Consider using a TensorFlow optimizer from `tf.train`.\n",
      "100/100 [==============================] - 12s 118ms/step - loss: 0.0470\n",
      "Epoch 40/50\n",
      " 99/100 [============================>.] - ETA: 0s - loss: 0.0441WARNING:tensorflow:This model was compiled with a Keras optimizer (<tensorflow.python.keras.optimizers.Adam object at 0x7f51641dbf10>) but is being saved in TensorFlow format with `save_weights`. The model's weights will be saved, but unlike with TensorFlow optimizers in the TensorFlow format the optimizer's state will not be saved.\n",
      "\n",
      "Consider using a TensorFlow optimizer from `tf.train`.\n",
      "100/100 [==============================] - 12s 119ms/step - loss: 0.0441\n",
      "Epoch 41/50\n",
      " 99/100 [============================>.] - ETA: 0s - loss: 0.0454WARNING:tensorflow:This model was compiled with a Keras optimizer (<tensorflow.python.keras.optimizers.Adam object at 0x7f51641dbf10>) but is being saved in TensorFlow format with `save_weights`. The model's weights will be saved, but unlike with TensorFlow optimizers in the TensorFlow format the optimizer's state will not be saved.\n",
      "\n",
      "Consider using a TensorFlow optimizer from `tf.train`.\n",
      "100/100 [==============================] - 12s 118ms/step - loss: 0.0454\n",
      "Epoch 42/50\n",
      " 99/100 [============================>.] - ETA: 0s - loss: 0.0454WARNING:tensorflow:This model was compiled with a Keras optimizer (<tensorflow.python.keras.optimizers.Adam object at 0x7f51641dbf10>) but is being saved in TensorFlow format with `save_weights`. The model's weights will be saved, but unlike with TensorFlow optimizers in the TensorFlow format the optimizer's state will not be saved.\n",
      "\n",
      "Consider using a TensorFlow optimizer from `tf.train`.\n",
      "100/100 [==============================] - 12s 118ms/step - loss: 0.0454\n",
      "Epoch 43/50\n",
      " 99/100 [============================>.] - ETA: 0s - loss: 0.0466WARNING:tensorflow:This model was compiled with a Keras optimizer (<tensorflow.python.keras.optimizers.Adam object at 0x7f51641dbf10>) but is being saved in TensorFlow format with `save_weights`. The model's weights will be saved, but unlike with TensorFlow optimizers in the TensorFlow format the optimizer's state will not be saved.\n",
      "\n",
      "Consider using a TensorFlow optimizer from `tf.train`.\n",
      "100/100 [==============================] - 12s 119ms/step - loss: 0.0466\n",
      "Epoch 44/50\n",
      " 99/100 [============================>.] - ETA: 0s - loss: 0.0442WARNING:tensorflow:This model was compiled with a Keras optimizer (<tensorflow.python.keras.optimizers.Adam object at 0x7f51641dbf10>) but is being saved in TensorFlow format with `save_weights`. The model's weights will be saved, but unlike with TensorFlow optimizers in the TensorFlow format the optimizer's state will not be saved.\n",
      "\n",
      "Consider using a TensorFlow optimizer from `tf.train`.\n",
      "100/100 [==============================] - 12s 120ms/step - loss: 0.0443\n",
      "Epoch 45/50\n",
      " 99/100 [============================>.] - ETA: 0s - loss: 0.0424WARNING:tensorflow:This model was compiled with a Keras optimizer (<tensorflow.python.keras.optimizers.Adam object at 0x7f51641dbf10>) but is being saved in TensorFlow format with `save_weights`. The model's weights will be saved, but unlike with TensorFlow optimizers in the TensorFlow format the optimizer's state will not be saved.\n",
      "\n",
      "Consider using a TensorFlow optimizer from `tf.train`.\n",
      "100/100 [==============================] - 12s 120ms/step - loss: 0.0424\n",
      "Epoch 46/50\n",
      " 99/100 [============================>.] - ETA: 0s - loss: 0.0438WARNING:tensorflow:This model was compiled with a Keras optimizer (<tensorflow.python.keras.optimizers.Adam object at 0x7f51641dbf10>) but is being saved in TensorFlow format with `save_weights`. The model's weights will be saved, but unlike with TensorFlow optimizers in the TensorFlow format the optimizer's state will not be saved.\n",
      "\n",
      "Consider using a TensorFlow optimizer from `tf.train`.\n",
      "100/100 [==============================] - 12s 119ms/step - loss: 0.0438\n",
      "Epoch 47/50\n",
      " 99/100 [============================>.] - ETA: 0s - loss: 0.0522WARNING:tensorflow:This model was compiled with a Keras optimizer (<tensorflow.python.keras.optimizers.Adam object at 0x7f51641dbf10>) but is being saved in TensorFlow format with `save_weights`. The model's weights will be saved, but unlike with TensorFlow optimizers in the TensorFlow format the optimizer's state will not be saved.\n",
      "\n",
      "Consider using a TensorFlow optimizer from `tf.train`.\n"
     ]
    },
    {
     "name": "stdout",
     "output_type": "stream",
     "text": [
      "100/100 [==============================] - 12s 120ms/step - loss: 0.0522\n",
      "Epoch 48/50\n",
      " 99/100 [============================>.] - ETA: 0s - loss: 0.0454WARNING:tensorflow:This model was compiled with a Keras optimizer (<tensorflow.python.keras.optimizers.Adam object at 0x7f51641dbf10>) but is being saved in TensorFlow format with `save_weights`. The model's weights will be saved, but unlike with TensorFlow optimizers in the TensorFlow format the optimizer's state will not be saved.\n",
      "\n",
      "Consider using a TensorFlow optimizer from `tf.train`.\n",
      "100/100 [==============================] - 12s 117ms/step - loss: 0.0454\n",
      "Epoch 49/50\n",
      " 99/100 [============================>.] - ETA: 0s - loss: 0.0433WARNING:tensorflow:This model was compiled with a Keras optimizer (<tensorflow.python.keras.optimizers.Adam object at 0x7f51641dbf10>) but is being saved in TensorFlow format with `save_weights`. The model's weights will be saved, but unlike with TensorFlow optimizers in the TensorFlow format the optimizer's state will not be saved.\n",
      "\n",
      "Consider using a TensorFlow optimizer from `tf.train`.\n",
      "100/100 [==============================] - 12s 117ms/step - loss: 0.0433\n",
      "Epoch 50/50\n",
      " 99/100 [============================>.] - ETA: 0s - loss: 0.0425WARNING:tensorflow:This model was compiled with a Keras optimizer (<tensorflow.python.keras.optimizers.Adam object at 0x7f51641dbf10>) but is being saved in TensorFlow format with `save_weights`. The model's weights will be saved, but unlike with TensorFlow optimizers in the TensorFlow format the optimizer's state will not be saved.\n",
      "\n",
      "Consider using a TensorFlow optimizer from `tf.train`.\n",
      "100/100 [==============================] - 12s 117ms/step - loss: 0.0424\n"
     ]
    }
   ],
   "source": [
    "history = model.fit(dataset, epochs=50,\n",
    "                    steps_per_epoch = 100,\n",
    "                    callbacks=[checkpoint_callback])\n"
   ]
  },
  {
   "cell_type": "markdown",
   "metadata": {},
   "source": [
    "# Predictions"
   ]
  },
  {
   "cell_type": "code",
   "execution_count": 29,
   "metadata": {},
   "outputs": [
    {
     "name": "stdout",
     "output_type": "stream",
     "text": [
      "_________________________________________________________________\n",
      "Layer (type)                 Output Shape              Param #   \n",
      "=================================================================\n",
      "embedding_2 (Embedding)      (1, None, 256)            16896     \n",
      "_________________________________________________________________\n",
      "gru_2 (GRU)                  (1, None, 512)            1181184   \n",
      "_________________________________________________________________\n",
      "dense_2 (Dense)              (1, None, 66)             33858     \n",
      "=================================================================\n",
      "Total params: 1,231,938\n",
      "Trainable params: 1,231,938\n",
      "Non-trainable params: 0\n",
      "_________________________________________________________________\n"
     ]
    }
   ],
   "source": [
    "tf.train.latest_checkpoint(checkpoint_dir)\n",
    "\n",
    "model_pred = build_model(vocab_size, embedding_dim, rnn_units, batch_size=1)\n",
    "\n",
    "model_pred.load_weights(tf.train.latest_checkpoint(checkpoint_dir))\n",
    "\n",
    "model_pred.build(tf.TensorShape([1, None]))\n",
    "\n",
    "model_pred.summary()"
   ]
  },
  {
   "cell_type": "code",
   "execution_count": 30,
   "metadata": {},
   "outputs": [],
   "source": [
    "\n",
    "def generate_text(model, start_string):\n",
    "    # Evaluation step (generating text using the learned model)\n",
    "\n",
    "    # Number of characters to generate\n",
    "    num_generate = 30\n",
    "\n",
    "    # Converting our start string to numbers (vectorizing)\n",
    "    input_eval = [char2idx[s] for s in start_string]\n",
    "    input_eval = tf.expand_dims(input_eval, 0)\n",
    "\n",
    "    # Empty string to store our results\n",
    "    text_generated = []\n",
    "\n",
    "    # Low temperatures results in more predictable text.\n",
    "    # Higher temperatures results in more surprising text.\n",
    "    # Experiment to find the best setting.\n",
    "    temperature = 1.0\n",
    "\n",
    "    # Here batch size == 1\n",
    "    model.reset_states()\n",
    "    for i in range(num_generate):\n",
    "        predictions = model(input_eval)\n",
    "        # remove the batch dimension\n",
    "        predictions = tf.squeeze(predictions, 0)\n",
    "\n",
    "        # using a categorical distribution to predict the character returned by the model\n",
    "        predictions = predictions / temperature\n",
    "        predicted_id = tf.random.categorical(predictions, num_samples=1)[-1,0].numpy()\n",
    "\n",
    "        # We pass the predicted character as the next input to the model\n",
    "        # along with the previous hidden state\n",
    "        input_eval = tf.expand_dims([predicted_id], 0)\n",
    "\n",
    "        text_generated.append(idx2char[predicted_id])\n",
    "\n",
    "    return (start_string + ''.join(text_generated))\n"
   ]
  },
  {
   "cell_type": "code",
   "execution_count": 37,
   "metadata": {},
   "outputs": [
    {
     "name": "stdout",
     "output_type": "stream",
     "text": [
      "What I’m Peebutt Go: Pounded by 'E\n"
     ]
    }
   ],
   "source": [
    "start_string = 'What'\n",
    "\n",
    "# print generated title\n",
    "print(generate_text(model_pred, start_string=start_string))"
   ]
  },
  {
   "cell_type": "code",
   "execution_count": null,
   "metadata": {},
   "outputs": [],
   "source": []
  }
 ],
 "metadata": {
  "kernelspec": {
   "display_name": "Python 3",
   "language": "python",
   "name": "python3"
  },
  "language_info": {
   "codemirror_mode": {
    "name": "ipython",
    "version": 3
   },
   "file_extension": ".py",
   "mimetype": "text/x-python",
   "name": "python",
   "nbconvert_exporter": "python",
   "pygments_lexer": "ipython3",
   "version": "3.7.6"
  }
 },
 "nbformat": 4,
 "nbformat_minor": 4
}
